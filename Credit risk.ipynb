{
 "cells": [
  {
   "cell_type": "code",
   "execution_count": null,
   "metadata": {},
   "outputs": [],
   "source": [
    "# Mini project Credit Risk\n"
   ]
  },
  {
   "cell_type": "code",
   "execution_count": 94,
   "metadata": {},
   "outputs": [],
   "source": [
    "# import libraries\n",
    "import pandas as pd\n",
    "import numpy as np\n",
    "import matplotlib.pyplot as plt\n",
    "import seaborn as sns\n",
    "from scipy.io import arff\n"
   ]
  },
  {
   "cell_type": "code",
   "execution_count": 5,
   "metadata": {},
   "outputs": [],
   "source": [
    "# Dataset reading \n",
    "arff_file = arff.loadarff (r'C:\\Users\\gayat\\Dropbox\\PC\\Desktop\\Western University\\Mini project\\Credit Risk\\credit.arff')"
   ]
  },
  {
   "cell_type": "code",
   "execution_count": 8,
   "metadata": {},
   "outputs": [],
   "source": [
    "df = pd.DataFrame(arff_file[0])"
   ]
  },
  {
   "cell_type": "code",
   "execution_count": 20,
   "metadata": {},
   "outputs": [
    {
     "data": {
      "text/html": [
       "<div>\n",
       "<style scoped>\n",
       "    .dataframe tbody tr th:only-of-type {\n",
       "        vertical-align: middle;\n",
       "    }\n",
       "\n",
       "    .dataframe tbody tr th {\n",
       "        vertical-align: top;\n",
       "    }\n",
       "\n",
       "    .dataframe thead th {\n",
       "        text-align: right;\n",
       "    }\n",
       "</style>\n",
       "<table border=\"1\" class=\"dataframe\">\n",
       "  <thead>\n",
       "    <tr style=\"text-align: right;\">\n",
       "      <th></th>\n",
       "      <th>checking_status</th>\n",
       "      <th>duration</th>\n",
       "      <th>credit_history</th>\n",
       "      <th>purpose</th>\n",
       "      <th>credit_amount</th>\n",
       "      <th>savings_status</th>\n",
       "      <th>employment</th>\n",
       "      <th>installment_commitment</th>\n",
       "      <th>personal_status</th>\n",
       "      <th>other_parties</th>\n",
       "      <th>...</th>\n",
       "      <th>property_magnitude</th>\n",
       "      <th>age</th>\n",
       "      <th>other_payment_plans</th>\n",
       "      <th>housing</th>\n",
       "      <th>existing_credits</th>\n",
       "      <th>job</th>\n",
       "      <th>num_dependents</th>\n",
       "      <th>own_telephone</th>\n",
       "      <th>foreign_worker</th>\n",
       "      <th>class</th>\n",
       "    </tr>\n",
       "  </thead>\n",
       "  <tbody>\n",
       "    <tr>\n",
       "      <th>0</th>\n",
       "      <td>b\"'&lt;0'\"</td>\n",
       "      <td>6.0</td>\n",
       "      <td>b\"'critical/other existing credit'\"</td>\n",
       "      <td>b'radio/tv'</td>\n",
       "      <td>1169.0</td>\n",
       "      <td>b\"'no known savings'\"</td>\n",
       "      <td>b\"'&gt;=7'\"</td>\n",
       "      <td>4.0</td>\n",
       "      <td>b\"'male single'\"</td>\n",
       "      <td>b'none'</td>\n",
       "      <td>...</td>\n",
       "      <td>b\"'real estate'\"</td>\n",
       "      <td>67.0</td>\n",
       "      <td>b'none'</td>\n",
       "      <td>b'own'</td>\n",
       "      <td>2.0</td>\n",
       "      <td>b'skilled'</td>\n",
       "      <td>1.0</td>\n",
       "      <td>b'yes'</td>\n",
       "      <td>b'yes'</td>\n",
       "      <td>b'good'</td>\n",
       "    </tr>\n",
       "    <tr>\n",
       "      <th>1</th>\n",
       "      <td>b\"'0&lt;=X&lt;200'\"</td>\n",
       "      <td>48.0</td>\n",
       "      <td>b\"'existing paid'\"</td>\n",
       "      <td>b'radio/tv'</td>\n",
       "      <td>5951.0</td>\n",
       "      <td>b\"'&lt;100'\"</td>\n",
       "      <td>b\"'1&lt;=X&lt;4'\"</td>\n",
       "      <td>2.0</td>\n",
       "      <td>b\"'female div/dep/mar'\"</td>\n",
       "      <td>b'none'</td>\n",
       "      <td>...</td>\n",
       "      <td>b\"'real estate'\"</td>\n",
       "      <td>22.0</td>\n",
       "      <td>b'none'</td>\n",
       "      <td>b'own'</td>\n",
       "      <td>1.0</td>\n",
       "      <td>b'skilled'</td>\n",
       "      <td>1.0</td>\n",
       "      <td>b'none'</td>\n",
       "      <td>b'yes'</td>\n",
       "      <td>b'bad'</td>\n",
       "    </tr>\n",
       "    <tr>\n",
       "      <th>2</th>\n",
       "      <td>b\"'no checking'\"</td>\n",
       "      <td>12.0</td>\n",
       "      <td>b\"'critical/other existing credit'\"</td>\n",
       "      <td>b'education'</td>\n",
       "      <td>2096.0</td>\n",
       "      <td>b\"'&lt;100'\"</td>\n",
       "      <td>b\"'4&lt;=X&lt;7'\"</td>\n",
       "      <td>2.0</td>\n",
       "      <td>b\"'male single'\"</td>\n",
       "      <td>b'none'</td>\n",
       "      <td>...</td>\n",
       "      <td>b\"'real estate'\"</td>\n",
       "      <td>49.0</td>\n",
       "      <td>b'none'</td>\n",
       "      <td>b'own'</td>\n",
       "      <td>1.0</td>\n",
       "      <td>b\"'unskilled resident'\"</td>\n",
       "      <td>2.0</td>\n",
       "      <td>b'none'</td>\n",
       "      <td>b'yes'</td>\n",
       "      <td>b'good'</td>\n",
       "    </tr>\n",
       "  </tbody>\n",
       "</table>\n",
       "<p>3 rows × 21 columns</p>\n",
       "</div>"
      ],
      "text/plain": [
       "    checking_status  duration                       credit_history  \\\n",
       "0           b\"'<0'\"       6.0  b\"'critical/other existing credit'\"   \n",
       "1     b\"'0<=X<200'\"      48.0                   b\"'existing paid'\"   \n",
       "2  b\"'no checking'\"      12.0  b\"'critical/other existing credit'\"   \n",
       "\n",
       "        purpose  credit_amount         savings_status   employment  \\\n",
       "0   b'radio/tv'         1169.0  b\"'no known savings'\"     b\"'>=7'\"   \n",
       "1   b'radio/tv'         5951.0              b\"'<100'\"  b\"'1<=X<4'\"   \n",
       "2  b'education'         2096.0              b\"'<100'\"  b\"'4<=X<7'\"   \n",
       "\n",
       "   installment_commitment          personal_status other_parties   ...     \\\n",
       "0                     4.0         b\"'male single'\"       b'none'   ...      \n",
       "1                     2.0  b\"'female div/dep/mar'\"       b'none'   ...      \n",
       "2                     2.0         b\"'male single'\"       b'none'   ...      \n",
       "\n",
       "   property_magnitude   age  other_payment_plans housing existing_credits  \\\n",
       "0    b\"'real estate'\"  67.0              b'none'  b'own'              2.0   \n",
       "1    b\"'real estate'\"  22.0              b'none'  b'own'              1.0   \n",
       "2    b\"'real estate'\"  49.0              b'none'  b'own'              1.0   \n",
       "\n",
       "                       job num_dependents  own_telephone foreign_worker  \\\n",
       "0               b'skilled'            1.0         b'yes'         b'yes'   \n",
       "1               b'skilled'            1.0        b'none'         b'yes'   \n",
       "2  b\"'unskilled resident'\"            2.0        b'none'         b'yes'   \n",
       "\n",
       "     class  \n",
       "0  b'good'  \n",
       "1   b'bad'  \n",
       "2  b'good'  \n",
       "\n",
       "[3 rows x 21 columns]"
      ]
     },
     "execution_count": 20,
     "metadata": {},
     "output_type": "execute_result"
    }
   ],
   "source": [
    "df.head(3)"
   ]
  },
  {
   "cell_type": "code",
   "execution_count": 18,
   "metadata": {},
   "outputs": [
    {
     "data": {
      "text/plain": [
       "checking_status           0\n",
       "duration                  0\n",
       "credit_history            0\n",
       "purpose                   0\n",
       "credit_amount             0\n",
       "savings_status            0\n",
       "employment                0\n",
       "installment_commitment    0\n",
       "personal_status           0\n",
       "other_parties             0\n",
       "residence_since           0\n",
       "property_magnitude        0\n",
       "age                       0\n",
       "other_payment_plans       0\n",
       "housing                   0\n",
       "existing_credits          0\n",
       "job                       0\n",
       "num_dependents            0\n",
       "own_telephone             0\n",
       "foreign_worker            0\n",
       "class                     0\n",
       "dtype: int64"
      ]
     },
     "execution_count": 18,
     "metadata": {},
     "output_type": "execute_result"
    }
   ],
   "source": [
    "# Check any missing values\n",
    "df.isnull().sum()"
   ]
  },
  {
   "cell_type": "code",
   "execution_count": 19,
   "metadata": {},
   "outputs": [
    {
     "name": "stdout",
     "output_type": "stream",
     "text": [
      "<class 'pandas.core.frame.DataFrame'>\n",
      "RangeIndex: 1000 entries, 0 to 999\n",
      "Data columns (total 21 columns):\n",
      "checking_status           1000 non-null object\n",
      "duration                  1000 non-null float64\n",
      "credit_history            1000 non-null object\n",
      "purpose                   1000 non-null object\n",
      "credit_amount             1000 non-null float64\n",
      "savings_status            1000 non-null object\n",
      "employment                1000 non-null object\n",
      "installment_commitment    1000 non-null float64\n",
      "personal_status           1000 non-null object\n",
      "other_parties             1000 non-null object\n",
      "residence_since           1000 non-null float64\n",
      "property_magnitude        1000 non-null object\n",
      "age                       1000 non-null float64\n",
      "other_payment_plans       1000 non-null object\n",
      "housing                   1000 non-null object\n",
      "existing_credits          1000 non-null float64\n",
      "job                       1000 non-null object\n",
      "num_dependents            1000 non-null float64\n",
      "own_telephone             1000 non-null object\n",
      "foreign_worker            1000 non-null object\n",
      "class                     1000 non-null object\n",
      "dtypes: float64(7), object(14)\n",
      "memory usage: 164.1+ KB\n"
     ]
    }
   ],
   "source": [
    "df.info()"
   ]
  },
  {
   "cell_type": "code",
   "execution_count": null,
   "metadata": {},
   "outputs": [],
   "source": [
    "# split dataset as categoric \n",
    "cat = df.dtypes == 'object'"
   ]
  },
  {
   "cell_type": "code",
   "execution_count": null,
   "metadata": {},
   "outputs": [],
   "source": [
    "# Categorical\n",
    "df.loc[:,cat].head(5)"
   ]
  },
  {
   "cell_type": "code",
   "execution_count": 36,
   "metadata": {},
   "outputs": [
    {
     "data": {
      "text/html": [
       "<div>\n",
       "<style scoped>\n",
       "    .dataframe tbody tr th:only-of-type {\n",
       "        vertical-align: middle;\n",
       "    }\n",
       "\n",
       "    .dataframe tbody tr th {\n",
       "        vertical-align: top;\n",
       "    }\n",
       "\n",
       "    .dataframe thead th {\n",
       "        text-align: right;\n",
       "    }\n",
       "</style>\n",
       "<table border=\"1\" class=\"dataframe\">\n",
       "  <thead>\n",
       "    <tr style=\"text-align: right;\">\n",
       "      <th></th>\n",
       "      <th>duration</th>\n",
       "      <th>credit_amount</th>\n",
       "      <th>installment_commitment</th>\n",
       "      <th>residence_since</th>\n",
       "      <th>age</th>\n",
       "      <th>existing_credits</th>\n",
       "      <th>num_dependents</th>\n",
       "    </tr>\n",
       "  </thead>\n",
       "  <tbody>\n",
       "    <tr>\n",
       "      <th>0</th>\n",
       "      <td>6.0</td>\n",
       "      <td>1169.0</td>\n",
       "      <td>4.0</td>\n",
       "      <td>4.0</td>\n",
       "      <td>67.0</td>\n",
       "      <td>2.0</td>\n",
       "      <td>1.0</td>\n",
       "    </tr>\n",
       "    <tr>\n",
       "      <th>1</th>\n",
       "      <td>48.0</td>\n",
       "      <td>5951.0</td>\n",
       "      <td>2.0</td>\n",
       "      <td>2.0</td>\n",
       "      <td>22.0</td>\n",
       "      <td>1.0</td>\n",
       "      <td>1.0</td>\n",
       "    </tr>\n",
       "    <tr>\n",
       "      <th>2</th>\n",
       "      <td>12.0</td>\n",
       "      <td>2096.0</td>\n",
       "      <td>2.0</td>\n",
       "      <td>3.0</td>\n",
       "      <td>49.0</td>\n",
       "      <td>1.0</td>\n",
       "      <td>2.0</td>\n",
       "    </tr>\n",
       "    <tr>\n",
       "      <th>3</th>\n",
       "      <td>42.0</td>\n",
       "      <td>7882.0</td>\n",
       "      <td>2.0</td>\n",
       "      <td>4.0</td>\n",
       "      <td>45.0</td>\n",
       "      <td>1.0</td>\n",
       "      <td>2.0</td>\n",
       "    </tr>\n",
       "    <tr>\n",
       "      <th>4</th>\n",
       "      <td>24.0</td>\n",
       "      <td>4870.0</td>\n",
       "      <td>3.0</td>\n",
       "      <td>4.0</td>\n",
       "      <td>53.0</td>\n",
       "      <td>2.0</td>\n",
       "      <td>2.0</td>\n",
       "    </tr>\n",
       "  </tbody>\n",
       "</table>\n",
       "</div>"
      ],
      "text/plain": [
       "   duration  credit_amount  installment_commitment  residence_since   age  \\\n",
       "0       6.0         1169.0                     4.0              4.0  67.0   \n",
       "1      48.0         5951.0                     2.0              2.0  22.0   \n",
       "2      12.0         2096.0                     2.0              3.0  49.0   \n",
       "3      42.0         7882.0                     2.0              4.0  45.0   \n",
       "4      24.0         4870.0                     3.0              4.0  53.0   \n",
       "\n",
       "   existing_credits  num_dependents  \n",
       "0               2.0             1.0  \n",
       "1               1.0             1.0  \n",
       "2               1.0             2.0  \n",
       "3               1.0             2.0  \n",
       "4               2.0             2.0  "
      ]
     },
     "execution_count": 36,
     "metadata": {},
     "output_type": "execute_result"
    }
   ],
   "source": [
    "# Countinous\n",
    "df.loc[:,~cat].head(5)"
   ]
  },
  {
   "cell_type": "markdown",
   "metadata": {},
   "source": [
    "Preprocessing"
   ]
  },
  {
   "cell_type": "code",
   "execution_count": 43,
   "metadata": {},
   "outputs": [
    {
     "name": "stdout",
     "output_type": "stream",
     "text": [
      "2\n",
      "1.0    845\n",
      "2.0    155\n",
      "Name: num_dependents, dtype: int64\n"
     ]
    }
   ],
   "source": [
    "# exploring nu_dependents feature\n",
    "print(df.num_dependents.nunique())\n",
    "print(df.num_dependents.value_counts())"
   ]
  },
  {
   "cell_type": "code",
   "execution_count": 44,
   "metadata": {},
   "outputs": [],
   "source": [
    "# Num_dependents feature data type change to object (1/2)\n",
    "df.num_dependents=df.num_dependents.astype('object')"
   ]
  },
  {
   "cell_type": "code",
   "execution_count": 45,
   "metadata": {},
   "outputs": [
    {
     "name": "stdout",
     "output_type": "stream",
     "text": [
      "<class 'pandas.core.frame.DataFrame'>\n",
      "RangeIndex: 1000 entries, 0 to 999\n",
      "Data columns (total 21 columns):\n",
      "checking_status           1000 non-null object\n",
      "duration                  1000 non-null float64\n",
      "credit_history            1000 non-null object\n",
      "purpose                   1000 non-null object\n",
      "credit_amount             1000 non-null float64\n",
      "savings_status            1000 non-null object\n",
      "employment                1000 non-null object\n",
      "installment_commitment    1000 non-null float64\n",
      "personal_status           1000 non-null object\n",
      "other_parties             1000 non-null object\n",
      "residence_since           1000 non-null float64\n",
      "property_magnitude        1000 non-null object\n",
      "age                       1000 non-null float64\n",
      "other_payment_plans       1000 non-null object\n",
      "housing                   1000 non-null object\n",
      "existing_credits          1000 non-null float64\n",
      "job                       1000 non-null object\n",
      "num_dependents            1000 non-null object\n",
      "own_telephone             1000 non-null object\n",
      "foreign_worker            1000 non-null object\n",
      "class                     1000 non-null object\n",
      "dtypes: float64(6), object(15)\n",
      "memory usage: 164.1+ KB\n"
     ]
    }
   ],
   "source": [
    "df.info()"
   ]
  },
  {
   "cell_type": "code",
   "execution_count": 49,
   "metadata": {},
   "outputs": [
    {
     "data": {
      "text/plain": [
       "own_telephone     True\n",
       "foreign_worker    True\n",
       "class             True\n",
       "dtype: bool"
      ]
     },
     "execution_count": 49,
     "metadata": {},
     "output_type": "execute_result"
    }
   ],
   "source": [
    "# New cantinouse features\n",
    "cat = df.dtypes=='object'\n",
    "cat.tail(3)"
   ]
  },
  {
   "cell_type": "code",
   "execution_count": 74,
   "metadata": {},
   "outputs": [
    {
     "data": {
      "text/plain": [
       "((1000, 20), (1000,))"
      ]
     },
     "execution_count": 74,
     "metadata": {},
     "output_type": "execute_result"
    }
   ],
   "source": [
    "# Split target feature \n",
    "X = df.drop('class',axis=1)\n",
    "y = df['class'] \n",
    "X.shape, y.shape"
   ]
  },
  {
   "cell_type": "code",
   "execution_count": 61,
   "metadata": {},
   "outputs": [
    {
     "data": {
      "text/html": [
       "<div>\n",
       "<style scoped>\n",
       "    .dataframe tbody tr th:only-of-type {\n",
       "        vertical-align: middle;\n",
       "    }\n",
       "\n",
       "    .dataframe tbody tr th {\n",
       "        vertical-align: top;\n",
       "    }\n",
       "\n",
       "    .dataframe thead th {\n",
       "        text-align: right;\n",
       "    }\n",
       "</style>\n",
       "<table border=\"1\" class=\"dataframe\">\n",
       "  <thead>\n",
       "    <tr style=\"text-align: right;\">\n",
       "      <th></th>\n",
       "      <th>checking_status</th>\n",
       "      <th>duration</th>\n",
       "      <th>credit_history</th>\n",
       "      <th>purpose</th>\n",
       "      <th>credit_amount</th>\n",
       "      <th>savings_status</th>\n",
       "      <th>employment</th>\n",
       "      <th>installment_commitment</th>\n",
       "      <th>personal_status</th>\n",
       "      <th>other_parties</th>\n",
       "      <th>residence_since</th>\n",
       "      <th>property_magnitude</th>\n",
       "      <th>age</th>\n",
       "      <th>other_payment_plans</th>\n",
       "      <th>housing</th>\n",
       "      <th>existing_credits</th>\n",
       "      <th>job</th>\n",
       "      <th>num_dependents</th>\n",
       "      <th>own_telephone</th>\n",
       "      <th>foreign_worker</th>\n",
       "    </tr>\n",
       "  </thead>\n",
       "  <tbody>\n",
       "    <tr>\n",
       "      <th>0</th>\n",
       "      <td>b\"'&lt;0'\"</td>\n",
       "      <td>-1.236478</td>\n",
       "      <td>b\"'critical/other existing credit'\"</td>\n",
       "      <td>b'radio/tv'</td>\n",
       "      <td>-0.745131</td>\n",
       "      <td>b\"'no known savings'\"</td>\n",
       "      <td>b\"'&gt;=7'\"</td>\n",
       "      <td>0.918477</td>\n",
       "      <td>b\"'male single'\"</td>\n",
       "      <td>b'none'</td>\n",
       "      <td>1.046987</td>\n",
       "      <td>b\"'real estate'\"</td>\n",
       "      <td>2.766456</td>\n",
       "      <td>b'none'</td>\n",
       "      <td>b'own'</td>\n",
       "      <td>1.027079</td>\n",
       "      <td>b'skilled'</td>\n",
       "      <td>1</td>\n",
       "      <td>b'yes'</td>\n",
       "      <td>b'yes'</td>\n",
       "    </tr>\n",
       "    <tr>\n",
       "      <th>1</th>\n",
       "      <td>b\"'0&lt;=X&lt;200'\"</td>\n",
       "      <td>2.248194</td>\n",
       "      <td>b\"'existing paid'\"</td>\n",
       "      <td>b'radio/tv'</td>\n",
       "      <td>0.949817</td>\n",
       "      <td>b\"'&lt;100'\"</td>\n",
       "      <td>b\"'1&lt;=X&lt;4'\"</td>\n",
       "      <td>-0.870183</td>\n",
       "      <td>b\"'female div/dep/mar'\"</td>\n",
       "      <td>b'none'</td>\n",
       "      <td>-0.765977</td>\n",
       "      <td>b\"'real estate'\"</td>\n",
       "      <td>-1.191404</td>\n",
       "      <td>b'none'</td>\n",
       "      <td>b'own'</td>\n",
       "      <td>-0.704926</td>\n",
       "      <td>b'skilled'</td>\n",
       "      <td>1</td>\n",
       "      <td>b'none'</td>\n",
       "      <td>b'yes'</td>\n",
       "    </tr>\n",
       "    <tr>\n",
       "      <th>2</th>\n",
       "      <td>b\"'no checking'\"</td>\n",
       "      <td>-0.738668</td>\n",
       "      <td>b\"'critical/other existing credit'\"</td>\n",
       "      <td>b'education'</td>\n",
       "      <td>-0.416562</td>\n",
       "      <td>b\"'&lt;100'\"</td>\n",
       "      <td>b\"'4&lt;=X&lt;7'\"</td>\n",
       "      <td>-0.870183</td>\n",
       "      <td>b\"'male single'\"</td>\n",
       "      <td>b'none'</td>\n",
       "      <td>0.140505</td>\n",
       "      <td>b\"'real estate'\"</td>\n",
       "      <td>1.183312</td>\n",
       "      <td>b'none'</td>\n",
       "      <td>b'own'</td>\n",
       "      <td>-0.704926</td>\n",
       "      <td>b\"'unskilled resident'\"</td>\n",
       "      <td>2</td>\n",
       "      <td>b'none'</td>\n",
       "      <td>b'yes'</td>\n",
       "    </tr>\n",
       "  </tbody>\n",
       "</table>\n",
       "</div>"
      ],
      "text/plain": [
       "    checking_status  duration                       credit_history  \\\n",
       "0           b\"'<0'\" -1.236478  b\"'critical/other existing credit'\"   \n",
       "1     b\"'0<=X<200'\"  2.248194                   b\"'existing paid'\"   \n",
       "2  b\"'no checking'\" -0.738668  b\"'critical/other existing credit'\"   \n",
       "\n",
       "        purpose  credit_amount         savings_status   employment  \\\n",
       "0   b'radio/tv'      -0.745131  b\"'no known savings'\"     b\"'>=7'\"   \n",
       "1   b'radio/tv'       0.949817              b\"'<100'\"  b\"'1<=X<4'\"   \n",
       "2  b'education'      -0.416562              b\"'<100'\"  b\"'4<=X<7'\"   \n",
       "\n",
       "   installment_commitment          personal_status other_parties  \\\n",
       "0                0.918477         b\"'male single'\"       b'none'   \n",
       "1               -0.870183  b\"'female div/dep/mar'\"       b'none'   \n",
       "2               -0.870183         b\"'male single'\"       b'none'   \n",
       "\n",
       "   residence_since property_magnitude       age other_payment_plans housing  \\\n",
       "0         1.046987   b\"'real estate'\"  2.766456             b'none'  b'own'   \n",
       "1        -0.765977   b\"'real estate'\" -1.191404             b'none'  b'own'   \n",
       "2         0.140505   b\"'real estate'\"  1.183312             b'none'  b'own'   \n",
       "\n",
       "   existing_credits                      job num_dependents own_telephone  \\\n",
       "0          1.027079               b'skilled'              1        b'yes'   \n",
       "1         -0.704926               b'skilled'              1       b'none'   \n",
       "2         -0.704926  b\"'unskilled resident'\"              2       b'none'   \n",
       "\n",
       "  foreign_worker  \n",
       "0         b'yes'  \n",
       "1         b'yes'  \n",
       "2         b'yes'  "
      ]
     },
     "execution_count": 61,
     "metadata": {},
     "output_type": "execute_result"
    }
   ],
   "source": [
    "X.head(3)"
   ]
  },
  {
   "cell_type": "code",
   "execution_count": 79,
   "metadata": {},
   "outputs": [
    {
     "data": {
      "text/plain": [
       "((1000, 62), (1000,))"
      ]
     },
     "execution_count": 79,
     "metadata": {},
     "output_type": "execute_result"
    }
   ],
   "source": [
    "# Scaling \n",
    "from sklearn.preprocessing import StandardScaler\n",
    "scaler = StandardScaler()\n",
    "# get numerical data\n",
    "df_num = X.select_dtypes(exclude='object')\n",
    "# update the column with our normalization\n",
    "X[df_num.columns]=scaler.fit_transform(df_num)\n",
    "#convert string to one hot encoding \n",
    "X_1 = pd.get_dummies(X)\n",
    "y_1= pd.get_dummies(y)\n",
    "y_2 = y_1[b'good']\n",
    "X_1.shape,y_2.shape"
   ]
  },
  {
   "cell_type": "code",
   "execution_count": 80,
   "metadata": {},
   "outputs": [
    {
     "data": {
      "text/plain": [
       "((810, 62), (100, 62), (90, 62), (810,), (100,), (90,))"
      ]
     },
     "execution_count": 80,
     "metadata": {},
     "output_type": "execute_result"
    }
   ],
   "source": [
    "# Training set 80%,validation set 10%,test set 10%\n",
    "from sklearn.model_selection import train_test_split \n",
    "x, x_test, y, y_test = train_test_split(X_1,y_2,test_size=0.1,train_size=0.9)\n",
    "x_train, x_cv, y_train, y_cv = train_test_split(x,y,test_size = 0.1,train_size =0.9)\n",
    "x_train.shape, x_test.shape, x_cv.shape, y_train.shape, y_test.shape, y_cv.shape, \n"
   ]
  },
  {
   "cell_type": "code",
   "execution_count": 54,
   "metadata": {},
   "outputs": [
    {
     "data": {
      "text/html": [
       "<div>\n",
       "<style scoped>\n",
       "    .dataframe tbody tr th:only-of-type {\n",
       "        vertical-align: middle;\n",
       "    }\n",
       "\n",
       "    .dataframe tbody tr th {\n",
       "        vertical-align: top;\n",
       "    }\n",
       "\n",
       "    .dataframe thead th {\n",
       "        text-align: right;\n",
       "    }\n",
       "</style>\n",
       "<table border=\"1\" class=\"dataframe\">\n",
       "  <thead>\n",
       "    <tr style=\"text-align: right;\">\n",
       "      <th></th>\n",
       "      <th>duration</th>\n",
       "      <th>credit_amount</th>\n",
       "      <th>installment_commitment</th>\n",
       "      <th>residence_since</th>\n",
       "      <th>age</th>\n",
       "      <th>existing_credits</th>\n",
       "      <th>checking_status_b\"'0&lt;=X&lt;200'\"</th>\n",
       "      <th>checking_status_b\"'&lt;0'\"</th>\n",
       "      <th>checking_status_b\"'&gt;=200'\"</th>\n",
       "      <th>checking_status_b\"'no checking'\"</th>\n",
       "      <th>...</th>\n",
       "      <th>job_b\"'unskilled resident'\"</th>\n",
       "      <th>job_b'skilled'</th>\n",
       "      <th>num_dependents_1.0</th>\n",
       "      <th>num_dependents_2.0</th>\n",
       "      <th>own_telephone_b'none'</th>\n",
       "      <th>own_telephone_b'yes'</th>\n",
       "      <th>foreign_worker_b'no'</th>\n",
       "      <th>foreign_worker_b'yes'</th>\n",
       "      <th>class_b'bad'</th>\n",
       "      <th>class_b'good'</th>\n",
       "    </tr>\n",
       "  </thead>\n",
       "  <tbody>\n",
       "    <tr>\n",
       "      <th>0</th>\n",
       "      <td>-1.236478</td>\n",
       "      <td>-0.745131</td>\n",
       "      <td>0.918477</td>\n",
       "      <td>1.046987</td>\n",
       "      <td>2.766456</td>\n",
       "      <td>1.027079</td>\n",
       "      <td>0</td>\n",
       "      <td>1</td>\n",
       "      <td>0</td>\n",
       "      <td>0</td>\n",
       "      <td>...</td>\n",
       "      <td>0</td>\n",
       "      <td>1</td>\n",
       "      <td>1</td>\n",
       "      <td>0</td>\n",
       "      <td>0</td>\n",
       "      <td>1</td>\n",
       "      <td>0</td>\n",
       "      <td>1</td>\n",
       "      <td>0</td>\n",
       "      <td>1</td>\n",
       "    </tr>\n",
       "    <tr>\n",
       "      <th>1</th>\n",
       "      <td>2.248194</td>\n",
       "      <td>0.949817</td>\n",
       "      <td>-0.870183</td>\n",
       "      <td>-0.765977</td>\n",
       "      <td>-1.191404</td>\n",
       "      <td>-0.704926</td>\n",
       "      <td>1</td>\n",
       "      <td>0</td>\n",
       "      <td>0</td>\n",
       "      <td>0</td>\n",
       "      <td>...</td>\n",
       "      <td>0</td>\n",
       "      <td>1</td>\n",
       "      <td>1</td>\n",
       "      <td>0</td>\n",
       "      <td>1</td>\n",
       "      <td>0</td>\n",
       "      <td>0</td>\n",
       "      <td>1</td>\n",
       "      <td>1</td>\n",
       "      <td>0</td>\n",
       "    </tr>\n",
       "    <tr>\n",
       "      <th>2</th>\n",
       "      <td>-0.738668</td>\n",
       "      <td>-0.416562</td>\n",
       "      <td>-0.870183</td>\n",
       "      <td>0.140505</td>\n",
       "      <td>1.183312</td>\n",
       "      <td>-0.704926</td>\n",
       "      <td>0</td>\n",
       "      <td>0</td>\n",
       "      <td>0</td>\n",
       "      <td>1</td>\n",
       "      <td>...</td>\n",
       "      <td>1</td>\n",
       "      <td>0</td>\n",
       "      <td>0</td>\n",
       "      <td>1</td>\n",
       "      <td>1</td>\n",
       "      <td>0</td>\n",
       "      <td>0</td>\n",
       "      <td>1</td>\n",
       "      <td>0</td>\n",
       "      <td>1</td>\n",
       "    </tr>\n",
       "    <tr>\n",
       "      <th>3</th>\n",
       "      <td>1.750384</td>\n",
       "      <td>1.634247</td>\n",
       "      <td>-0.870183</td>\n",
       "      <td>1.046987</td>\n",
       "      <td>0.831502</td>\n",
       "      <td>-0.704926</td>\n",
       "      <td>0</td>\n",
       "      <td>1</td>\n",
       "      <td>0</td>\n",
       "      <td>0</td>\n",
       "      <td>...</td>\n",
       "      <td>0</td>\n",
       "      <td>1</td>\n",
       "      <td>0</td>\n",
       "      <td>1</td>\n",
       "      <td>1</td>\n",
       "      <td>0</td>\n",
       "      <td>0</td>\n",
       "      <td>1</td>\n",
       "      <td>0</td>\n",
       "      <td>1</td>\n",
       "    </tr>\n",
       "    <tr>\n",
       "      <th>4</th>\n",
       "      <td>0.256953</td>\n",
       "      <td>0.566664</td>\n",
       "      <td>0.024147</td>\n",
       "      <td>1.046987</td>\n",
       "      <td>1.535122</td>\n",
       "      <td>1.027079</td>\n",
       "      <td>0</td>\n",
       "      <td>1</td>\n",
       "      <td>0</td>\n",
       "      <td>0</td>\n",
       "      <td>...</td>\n",
       "      <td>0</td>\n",
       "      <td>1</td>\n",
       "      <td>0</td>\n",
       "      <td>1</td>\n",
       "      <td>1</td>\n",
       "      <td>0</td>\n",
       "      <td>0</td>\n",
       "      <td>1</td>\n",
       "      <td>1</td>\n",
       "      <td>0</td>\n",
       "    </tr>\n",
       "  </tbody>\n",
       "</table>\n",
       "<p>5 rows × 64 columns</p>\n",
       "</div>"
      ],
      "text/plain": [
       "   duration  credit_amount  installment_commitment  residence_since       age  \\\n",
       "0 -1.236478      -0.745131                0.918477         1.046987  2.766456   \n",
       "1  2.248194       0.949817               -0.870183        -0.765977 -1.191404   \n",
       "2 -0.738668      -0.416562               -0.870183         0.140505  1.183312   \n",
       "3  1.750384       1.634247               -0.870183         1.046987  0.831502   \n",
       "4  0.256953       0.566664                0.024147         1.046987  1.535122   \n",
       "\n",
       "   existing_credits  checking_status_b\"'0<=X<200'\"  checking_status_b\"'<0'\"  \\\n",
       "0          1.027079                              0                        1   \n",
       "1         -0.704926                              1                        0   \n",
       "2         -0.704926                              0                        0   \n",
       "3         -0.704926                              0                        1   \n",
       "4          1.027079                              0                        1   \n",
       "\n",
       "   checking_status_b\"'>=200'\"  checking_status_b\"'no checking'\"  \\\n",
       "0                           0                                 0   \n",
       "1                           0                                 0   \n",
       "2                           0                                 1   \n",
       "3                           0                                 0   \n",
       "4                           0                                 0   \n",
       "\n",
       "       ...        job_b\"'unskilled resident'\"  job_b'skilled'  \\\n",
       "0      ...                                  0               1   \n",
       "1      ...                                  0               1   \n",
       "2      ...                                  1               0   \n",
       "3      ...                                  0               1   \n",
       "4      ...                                  0               1   \n",
       "\n",
       "   num_dependents_1.0  num_dependents_2.0  own_telephone_b'none'  \\\n",
       "0                   1                   0                      0   \n",
       "1                   1                   0                      1   \n",
       "2                   0                   1                      1   \n",
       "3                   0                   1                      1   \n",
       "4                   0                   1                      1   \n",
       "\n",
       "   own_telephone_b'yes'  foreign_worker_b'no'  foreign_worker_b'yes'  \\\n",
       "0                     1                     0                      1   \n",
       "1                     0                     0                      1   \n",
       "2                     0                     0                      1   \n",
       "3                     0                     0                      1   \n",
       "4                     0                     0                      1   \n",
       "\n",
       "   class_b'bad'  class_b'good'  \n",
       "0             0              1  \n",
       "1             1              0  \n",
       "2             0              1  \n",
       "3             0              1  \n",
       "4             1              0  \n",
       "\n",
       "[5 rows x 64 columns]"
      ]
     },
     "execution_count": 54,
     "metadata": {},
     "output_type": "execute_result"
    }
   ],
   "source": [
    "df_N.head(5)"
   ]
  },
  {
   "cell_type": "code",
   "execution_count": null,
   "metadata": {},
   "outputs": [],
   "source": []
  },
  {
   "cell_type": "code",
   "execution_count": 83,
   "metadata": {},
   "outputs": [
    {
     "data": {
      "text/plain": [
       "KNeighborsClassifier(algorithm='auto', leaf_size=30, metric='minkowski',\n",
       "           metric_params=None, n_jobs=1, n_neighbors=3, p=2,\n",
       "           weights='uniform')"
      ]
     },
     "execution_count": 83,
     "metadata": {},
     "output_type": "execute_result"
    }
   ],
   "source": [
    "#Model\n",
    "from sklearn.neighbors import KNeighborsClassifier \n",
    "# Choose value of K \n",
    "K = 3\n",
    "model = KNeighborsClassifier(n_neighbors=K)\n",
    "model.fit(x_train, y_train)\n",
    "#v_pred = model.predict(x_test)\n",
    "#y_pred = model.predict(y_test)"
   ]
  },
  {
   "cell_type": "code",
   "execution_count": 85,
   "metadata": {},
   "outputs": [],
   "source": [
    "y_pred = model.predict(x_test)\n",
    "v_pred = model.predict(x_cv)"
   ]
  },
  {
   "cell_type": "code",
   "execution_count": 91,
   "metadata": {},
   "outputs": [
    {
     "name": "stdout",
     "output_type": "stream",
     "text": [
      "0.7111111111111111\n",
      "0.75\n"
     ]
    },
    {
     "data": {
      "text/plain": [
       "(None, None)"
      ]
     },
     "execution_count": 91,
     "metadata": {},
     "output_type": "execute_result"
    }
   ],
   "source": [
    "#score_T = model.score(x_train,y_train)\n",
    "score_v = model.score(x_cv,y_cv)\n",
    "score_Te = model.score(x_test,y_test)\n",
    "print(score_v), print(score_Te)"
   ]
  },
  {
   "cell_type": "code",
   "execution_count": 96,
   "metadata": {},
   "outputs": [
    {
     "name": "stdout",
     "output_type": "stream",
     "text": [
      "[[10 12]\n",
      " [13 65]]\n"
     ]
    }
   ],
   "source": [
    "# confution metrix\n",
    "from sklearn import metrics\n",
    "confusion_matrix = metrics.confusion_matrix(y_test, y_pred)\n",
    "print(confusion_matrix)\n"
   ]
  },
  {
   "cell_type": "markdown",
   "metadata": {},
   "source": [
    "Parameter tuning "
   ]
  },
  {
   "cell_type": "code",
   "execution_count": null,
   "metadata": {},
   "outputs": [],
   "source": []
  },
  {
   "cell_type": "code",
   "execution_count": 100,
   "metadata": {},
   "outputs": [
    {
     "data": {
      "text/plain": [
       "[<matplotlib.lines.Line2D at 0x23c14557eb8>]"
      ]
     },
     "execution_count": 100,
     "metadata": {},
     "output_type": "execute_result"
    },
    {
     "data": {
      "image/png": "[encoded data removed]",
      "text/plain": [
       "<Figure size 720x576 with 1 Axes>"
      ]
     },
     "metadata": {},
     "output_type": "display_data"
    }
   ],
   "source": [
    "#Selecting an optimal K value\n",
    "\n",
    "error_rates = []\n",
    "\n",
    "for i in np.arange(1, 10):\n",
    "\n",
    "    new_model = KNeighborsClassifier(n_neighbors = i)\n",
    "\n",
    "    new_model.fit(x_train, y_train)\n",
    "\n",
    "    new_predictions = new_model.predict(x_test)\n",
    "\n",
    "    error_rates.append(np.mean(new_predictions != y_test))\n",
    "\n",
    "plt.figure(figsize=(10,8))\n",
    "\n",
    "plt.plot(error_rates)"
   ]
  },
  {
   "cell_type": "code",
   "execution_count": 101,
   "metadata": {},
   "outputs": [
    {
     "data": {
      "text/plain": [
       "KNeighborsClassifier(algorithm='auto', leaf_size=30, metric='minkowski',\n",
       "           metric_params=None, n_jobs=1, n_neighbors=5, p=2,\n",
       "           weights='uniform')"
      ]
     },
     "execution_count": 101,
     "metadata": {},
     "output_type": "execute_result"
    }
   ],
   "source": [
    "# K= 5 is the sutable choose\n",
    "K = 5\n",
    "model = KNeighborsClassifier(n_neighbors=K)\n",
    "model.fit(x_train, y_train)"
   ]
  },
  {
   "cell_type": "code",
   "execution_count": 102,
   "metadata": {},
   "outputs": [],
   "source": [
    "y_pred5 = model.predict(x_test)\n",
    "v_pred5 = model.predict(x_cv)"
   ]
  },
  {
   "cell_type": "code",
   "execution_count": 103,
   "metadata": {},
   "outputs": [
    {
     "name": "stdout",
     "output_type": "stream",
     "text": [
      "0.6777777777777778\n",
      "0.81\n"
     ]
    },
    {
     "data": {
      "text/plain": [
       "(None, None)"
      ]
     },
     "execution_count": 103,
     "metadata": {},
     "output_type": "execute_result"
    }
   ],
   "source": [
    "#score_T = model.score(x_train,y_train)\n",
    "score_v = model.score(x_cv,y_cv)\n",
    "score_Te = model.score(x_test,y_test)\n",
    "print(score_v), print(score_Te)"
   ]
  },
  {
   "cell_type": "code",
   "execution_count": 106,
   "metadata": {},
   "outputs": [
    {
     "name": "stdout",
     "output_type": "stream",
     "text": [
      "[[10 12]\n",
      " [13 65]]\n",
      "0.75\n"
     ]
    },
    {
     "data": {
      "text/plain": [
       "(None, None)"
      ]
     },
     "execution_count": 106,
     "metadata": {},
     "output_type": "execute_result"
    }
   ],
   "source": [
    "confusion_matrix5 = metrics.confusion_matrix(y_test, y_pred)\n",
    "Accuracy = metrics.accuracy_score(y_test, y_pred)\n",
    "print(confusion_matrix5), print(Accuracy)"
   ]
  },
  {
   "cell_type": "code",
   "execution_count": null,
   "metadata": {},
   "outputs": [],
   "source": []
  }
 ],
 "metadata": {
  "kernelspec": {
   "display_name": "base",
   "language": "python",
   "name": "python3"
  },
  "language_info": {
   "codemirror_mode": {
    "name": "ipython",
    "version": 3
   },
   "file_extension": ".py",
   "mimetype": "text/x-python",
   "name": "python",
   "nbconvert_exporter": "python",
   "pygments_lexer": "ipython3",
   "version": "3.6.5"
  }
 },
 "nbformat": 4,
 "nbformat_minor": 2
}
